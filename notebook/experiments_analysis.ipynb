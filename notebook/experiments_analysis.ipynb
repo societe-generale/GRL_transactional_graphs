{
 "cells": [
  {
   "cell_type": "code",
   "execution_count": null,
   "metadata": {},
   "outputs": [],
   "source": [
    "%load_ext autoreload\n",
    "%autoreload 2"
   ]
  },
  {
   "cell_type": "code",
   "execution_count": null,
   "metadata": {},
   "outputs": [],
   "source": [
    "import os\n",
    "import sys\n",
    "import matplotlib\n",
    "import matplotlib.pyplot as plt\n",
    "sys.path.append(\"..\")\n",
    "from utils.notebook_utils import (summarize_metrics, create_colormap,\n",
    "                                  plot_metric_wrt_models_ratios,\n",
    "                                  plot_metric_wrt_ratio_nf)"
   ]
  },
  {
   "cell_type": "code",
   "execution_count": null,
   "metadata": {},
   "outputs": [],
   "source": [
    "OUTPUT_PATH = \"\" #path where experiment results are saved\n",
    "SAVEFIG_PATH = \"\" #path to save analysis in"
   ]
  },
  {
   "cell_type": "markdown",
   "metadata": {},
   "source": [
    "# Merge experiments results in Excel"
   ]
  },
  {
   "cell_type": "markdown",
   "metadata": {},
   "source": [
    "## Parameters"
   ]
  },
  {
   "cell_type": "code",
   "execution_count": null,
   "metadata": {},
   "outputs": [],
   "source": [
    "models_lp = [\"deepwalk\", \"node2vec\", \"gcn\", \"gat\", \"graphsage\"]\n",
    "metrics_lp = {\n",
    "    'accuracy test':'accuracy_lp_test', \n",
    "    'auc test':'auc_lp_test', \n",
    "    'av precision test': 'ap_lp_test'\n",
    "}\n",
    "\n",
    "models_nc =  [\"deepwalk\", \"node2vec\", \"gcn\", \"gat\", \"graphsage\"]\n",
    "metrics_nc = {\n",
    "    'accuracy test': 'accuracy_test', \n",
    "    'f1 macro test': 'f1_macro_test'\n",
    "}\n",
    "\n",
    "tasks = [\"link_prediction\", \"node_classification\"]\n",
    "\n",
    "preprocessors = [\"sampler\", \"features_sampler\"]\n",
    "\n",
    "ratios = [0.5, 0.1, 0.01, 0.005, 0.001]\n",
    "\n",
    "ratios_nf = [0.75, 0.5, 0.1]\n",
    "\n",
    "datasets =  [\"pubmed\", \"cs\", \"amazon_co_buy_computer\", \"reddit\"]"
   ]
  },
  {
   "cell_type": "markdown",
   "metadata": {},
   "source": [
    "## Create files"
   ]
  },
  {
   "cell_type": "code",
   "execution_count": null,
   "metadata": {},
   "outputs": [],
   "source": [
    "reduce='mean'\n",
    "L = summarize_metrics('<filename>.xlsx', datasets, models_lp, models_nc, preprocessors, ratios, metrics_lp, metrics_nc, OUTPUT_PATH, SAVEFIG_PATH, ratios_nf=ratios_nf, reduce=reduce)"
   ]
  },
  {
   "cell_type": "markdown",
   "metadata": {},
   "source": [
    "# Plot results"
   ]
  },
  {
   "cell_type": "markdown",
   "metadata": {},
   "source": [
    "## Parameters"
   ]
  },
  {
   "cell_type": "code",
   "execution_count": null,
   "metadata": {},
   "outputs": [],
   "source": [
    "font = {\"size\": 13}\n",
    "palette_name = \"custom1\" \n",
    "colors = create_colormap(palette_name)\n",
    "markers = [\"^\", \"p\", \"v\", \"o\", \"s\", \"X\", \"D\", \"P\"]\n",
    "matplotlib.rc(\"font\", **font)"
   ]
  },
  {
   "cell_type": "markdown",
   "metadata": {},
   "source": [
    "## Plot evolution of one metric as ratio of clients decreases for one preprocessor and several models"
   ]
  },
  {
   "cell_type": "code",
   "execution_count": null,
   "metadata": {},
   "outputs": [],
   "source": [
    "MODELS = [\"gcn\", \"gat\", \"graphsage\", \"deepwalk\", \"node2vec\"]\n",
    "task = \"node_classification\" \n",
    "preprocessor = \"sampler\"\n",
    "ratios = [0.5, 0.1]\n",
    "metric = \"accuracy_test\"\n",
    "baseline = True"
   ]
  },
  {
   "cell_type": "code",
   "execution_count": null,
   "metadata": {},
   "outputs": [],
   "source": [
    "dataset = \"pubmed\"\n",
    "fig, ax = plot_metric_wrt_models_ratios(MODELS, task, preprocessor, ratios, None, dataset, metric, colors, markers, OUTPUT_PATH, SAVEFIG_PATH, baseline = baseline, title=False, set_labels=False, save=False)"
   ]
  },
  {
   "cell_type": "markdown",
   "metadata": {},
   "source": [
    "## Plot evolution of one metric as ratio of modified node features increases, for one model and several ratios of clients"
   ]
  },
  {
   "cell_type": "code",
   "execution_count": null,
   "metadata": {},
   "outputs": [],
   "source": [
    "model = \"graphsage\"\n",
    "task = \"node_classification\"\n",
    "preprocessor = \"blur_sampler\"\n",
    "ratios = [0.5, 0.1]\n",
    "ratios_nf = [0.1, 0.5, 0.75]\n",
    "metrics = \"accuracy_test\""
   ]
  },
  {
   "cell_type": "code",
   "execution_count": null,
   "metadata": {},
   "outputs": [],
   "source": [
    "dataset = \"pubmed\"\n",
    "fig, *ax = plot_metric_wrt_ratio_nf(model, task, preprocessor, ratios, ratios_nf, dataset, metrics, colors, markers, OUTPUT_PATH, SAVEFIG_PATH, metric_std=True, title=False, save=False)"
   ]
  }
 ],
 "metadata": {
  "kernelspec": {
   "display_name": "Python 3",
   "language": "python",
   "name": "python3"
  },
  "language_info": {
   "codemirror_mode": {
    "name": "ipython",
    "version": 3
   },
   "file_extension": ".py",
   "mimetype": "text/x-python",
   "name": "python",
   "nbconvert_exporter": "python",
   "pygments_lexer": "ipython3",
   "version": "3.7.0"
  },
  "toc": {
   "base_numbering": 1,
   "nav_menu": {},
   "number_sections": true,
   "sideBar": true,
   "skip_h1_title": false,
   "title_cell": "Table of Contents",
   "title_sidebar": "Contents",
   "toc_cell": false,
   "toc_position": {},
   "toc_section_display": true,
   "toc_window_display": false
  }
 },
 "nbformat": 4,
 "nbformat_minor": 4
}
